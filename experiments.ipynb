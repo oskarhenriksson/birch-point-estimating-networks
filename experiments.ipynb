{
 "cells": [
  {
   "cell_type": "code",
   "execution_count": 3,
   "id": "e2cf18",
   "metadata": {
    "collapsed": false
   },
   "outputs": [
   ],
   "source": [
    "import numpy as np\n",
    "import matplotlib.pyplot as plt\n",
    "import matplotlib.cm as cm\n",
    "from independence_models import *\n",
    "from MLE_estimator_tellurium import *\n",
    "import scipy\n",
    "import sympy as sp\n",
    "from datetime import datetime\n",
    "import os"
   ]
  },
  {
   "cell_type": "code",
   "execution_count": 4,
   "id": "08c3ec",
   "metadata": {
    "collapsed": false
   },
   "outputs": [
    {
     "name": "stdout",
     "output_type": "stream",
     "text": [
      "/home/user/20241014_021037\n"
     ]
    }
   ],
   "source": [
    "# Create a time-stamped folder for the experiment\n",
    "os.chdir('/home/user')\n",
    "current_time = datetime.now()\n",
    "timestamp_str = current_time.strftime('%Y%m%d_%H%M%S')\n",
    "os.makedirs(timestamp_str, exist_ok=True)\n",
    "os.chdir(timestamp_str)\n",
    "print(os.getcwd())"
   ]
  },
  {
   "cell_type": "markdown",
   "id": "e2466b",
   "metadata": {
    "collapsed": false
   },
   "source": [
    "## Helper functions"
   ]
  },
  {
   "cell_type": "code",
   "execution_count": 5,
   "id": "7a53cd",
   "metadata": {
    "collapsed": false
   },
   "outputs": [
   ],
   "source": [
    "def integer_basis_for_nullspace(A_np: np.ndarray):\n",
    "\n",
    "    # Compute ZZ-basis with sympy\n",
    "    A_sym = sp.Matrix(A_np)\n",
    "    null_space = A_sym.nullspace()\n",
    "    null_space_np = [np.array(vec).astype(int) for vec in null_space]\n",
    "    B = np.hstack(null_space_np)\n",
    "\n",
    "    # Turn into a QQ-basis (reduce to a linearly indepndent subset over QQ)\n",
    "    # We do this through a QR decomposition\n",
    "    Q, R, pivot_columns = scipy.linalg.qr(B, mode='economic', pivoting=True)\n",
    "    r = np.linalg.matrix_rank(B)\n",
    "    return B[:, pivot_columns[0:r]]"
   ]
  },
  {
   "cell_type": "code",
   "execution_count": 6,
   "id": "383766",
   "metadata": {
    "collapsed": false
   },
   "outputs": [
   ],
   "source": [
    "# Start a new plot\n",
    "def new_plot():\n",
    "    plt.figure(figsize=(8, 6))\n",
    "    plt.rcParams.update({'font.size': 14})"
   ]
  },
  {
   "cell_type": "code",
   "execution_count": 7,
   "id": "c9397d",
   "metadata": {
    "collapsed": false
   },
   "outputs": [
   ],
   "source": [
    "# Create a plot of the time-scales\n",
    "def timescale_plot(T, scale='log', **kwargs):\n",
    "    plt.plot(T, '.-', **kwargs)\n",
    "    plt.xlabel(r'Index of eigenvalue $\\lambda$')\n",
    "    plt.ylabel('|Re($\\lambda$)|${}^{-1}$ (timescale)')\n",
    "    plt.yscale(scale)"
   ]
  },
  {
   "cell_type": "markdown",
   "id": "f8e036",
   "metadata": {
    "collapsed": false
   },
   "source": [
    "## Independence models"
   ]
  },
  {
   "cell_type": "code",
   "execution_count": 8,
   "id": "7a00de",
   "metadata": {
    "collapsed": false
   },
   "outputs": [
   ],
   "source": [
    "a = 10\n",
    "b = 10\n",
    "A = independence_model(a, b)\n",
    "\n",
    "model_str = f'independence_model_{a}_{b}'\n",
    "\n",
    "os.chdir('/home/user/' + timestamp_str)\n",
    "os.makedirs(model_str, exist_ok=True)\n",
    "os.chdir(model_str)\n",
    "\n",
    "np.savetxt('A.txt', A, delimiter=',', fmt='%d')"
   ]
  },
  {
   "cell_type": "code",
   "execution_count": 9,
   "id": "f3e908",
   "metadata": {
    "collapsed": false
   },
   "outputs": [
   ],
   "source": [
    "# Markov basis (sorted so that the first columns form a full-rank matrix)\n",
    "Lambda_mb = independence_model_markov_basis(a, b)\n",
    "Q, R, pivot_columns = scipy.linalg.qr(Lambda_mb, mode='economic', pivoting=True)\n",
    "Lambda_mb = Lambda_mb[:, pivot_columns]\n",
    "\n",
    "u = np.random.randint(10, 50, size=(1, Lambda_mb.shape[0]))\n",
    "np.savetxt('u.txt', u, delimiter=',', fmt='%.5f')"
   ]
  },
  {
   "cell_type": "code",
   "execution_count": 10,
   "id": "591390",
   "metadata": {
    "collapsed": false
   },
   "outputs": [
   ],
   "source": [
    "number_of_m_values = 10\n",
    "m_values = np.rint(\n",
    "    np.linspace(te.rank(Lambda_mb), Lambda_mb.shape[1],\n",
    "                number_of_m_values)).astype(int)\n",
    "colors = cm.coolwarm(np.linspace(0, 1, len(m_values)))"
   ]
  },
  {
   "cell_type": "code",
   "execution_count": 11,
   "id": "011030",
   "metadata": {
    "collapsed": false
   },
   "outputs": [
    {
     "name": "stdout",
     "output_type": "stream",
     "text": [
      "0\n"
     ]
    },
    {
     "name": "stdout",
     "output_type": "stream",
     "text": [
      "1\n"
     ]
    },
    {
     "name": "stdout",
     "output_type": "stream",
     "text": [
      "2\n"
     ]
    },
    {
     "name": "stdout",
     "output_type": "stream",
     "text": [
      "3\n"
     ]
    },
    {
     "name": "stdout",
     "output_type": "stream",
     "text": [
      "4\n"
     ]
    },
    {
     "name": "stdout",
     "output_type": "stream",
     "text": [
      "5\n"
     ]
    },
    {
     "name": "stdout",
     "output_type": "stream",
     "text": [
      "6\n"
     ]
    },
    {
     "name": "stdout",
     "output_type": "stream",
     "text": [
      "7\n"
     ]
    },
    {
     "name": "stdout",
     "output_type": "stream",
     "text": [
      "8\n"
     ]
    },
    {
     "name": "stdout",
     "output_type": "stream",
     "text": [
      "9\n"
     ]
    },
    {
     "name": "stderr",
     "output_type": "stream",
     "text": [
      "The PostScript backend does not support transparency; partially transparent artists will be rendered opaque.\n"
     ]
    },
    {
     "data": {
      "image/png": "[encoded data removed]",
      "text/plain": [
       "<Figure size 576x432 with 1 Axes>"
      ]
     },
     "execution_count": 11,
     "metadata": {
      "image/png": {
       "height": 381,
       "width": 514
      },
      "needs_background": "light"
     },
     "output_type": "execute_result"
    }
   ],
   "source": [
    "dir_name = f'towards_markov_basis'\n",
    "\n",
    "os.makedirs(dir_name, exist_ok=True)\n",
    "\n",
    "new_plot()\n",
    "\n",
    "for i, m in enumerate(m_values):\n",
    "    print(i)\n",
    "    np.savetxt(dir_name + f'/Lambda{i+1}.txt',\n",
    "               Lambda_mb[:, 0:m],\n",
    "               delimiter=',',\n",
    "               fmt='%d')\n",
    "    T = timescales(Lambda_mb[:, 0:m], u)\n",
    "    np.savetxt(dir_name + f'/timescales_for_Lambda{i+1}.txt',\n",
    "               T,\n",
    "               delimiter=',',\n",
    "               fmt='%.5f')\n",
    "    timescale_plot(T, label=f'|Λ$_{{{i+1}}}$|={m}', color=colors[i])\n",
    "\n",
    "plt.legend()\n",
    "plt.savefig(dir_name + f'/independence_model_increasing_lambda.eps',\n",
    "            format='eps')\n",
    "plt.savefig(dir_name + f'/independence_model_increasing_lambda.pdf',\n",
    "            format='pdf')\n",
    "plt.show()"
   ]
  },
  {
   "cell_type": "code",
   "execution_count": 12,
   "id": "73407b",
   "metadata": {
    "collapsed": false
   },
   "outputs": [
    {
     "name": "stdout",
     "output_type": "stream",
     "text": [
      "0\n"
     ]
    },
    {
     "name": "stdout",
     "output_type": "stream",
     "text": [
      "1\n"
     ]
    },
    {
     "name": "stdout",
     "output_type": "stream",
     "text": [
      "2\n"
     ]
    }
   ],
   "source": [
    "dir_name = f'towards_random_spanning_set'\n",
    "os.makedirs(dir_name, exist_ok=True)\n",
    "\n",
    "extension_matrix = np.hstack(\n",
    "    (np.eye(te.rank(Lambda_mb), dtype=int),\n",
    "     np.random.choice([-1,0,1],\n",
    "                      size=(te.rank(Lambda_mb),\n",
    "                            Lambda_mb.shape[1] - te.rank(Lambda_mb)))))\n",
    "Lambda_spanning_set = np.dot(Lambda_mb[:, 0:te.rank(Lambda_mb)], extension_matrix)\n",
    "\n",
    "new_plot()\n",
    "\n",
    "for i, m in enumerate(m_values):\n",
    "    print(i)\n",
    "    np.savetxt(dir_name + f'/Lambda{i+1}.txt',\n",
    "               Lambda_spanning_set[:, 0:m],\n",
    "               delimiter=',',\n",
    "               fmt='%d')\n",
    "    T = timescales(Lambda_spanning_set[:, 0:m], u)\n",
    "    np.savetxt(dir_name + f'/timescales_for_Lambda{i+1}.txt',\n",
    "               T,\n",
    "               delimiter=',',\n",
    "               fmt='%.5f')\n",
    "    timescale_plot(T, label=f'|Λ$_{{{i+1}}}$|={m}', color=colors[i])\n",
    "\n",
    "plt.legend()\n",
    "\n",
    "plt.savefig(dir_name +\n",
    "            f\"/independence_model_increasing_lambda_to_random_spanning.eps\",\n",
    "            format='eps')\n",
    "plt.savefig(dir_name +\n",
    "            f\"/independence_model_increasing_lambda_to_random_spanning.pdf\",\n",
    "            format='pdf')"
   ]
  },
  {
   "cell_type": "markdown",
   "id": "28080c",
   "metadata": {
    "collapsed": false
   },
   "source": [
    "## 4-cycle"
   ]
  },
  {
   "cell_type": "code",
   "execution_count": 0,
   "id": "b3788d",
   "metadata": {
    "collapsed": false
   },
   "outputs": [
   ],
   "source": [
    "A = np.array([[1, 0, 1, 0, 0, 0, 0, 0, 1, 0, 1, 0, 0, 0, 0, 0],\n",
    "              [0, 1, 0, 1, 0, 0, 0, 0, 0, 1, 0, 1, 0, 0, 0, 0],\n",
    "              [0, 0, 0, 0, 1, 0, 1, 0, 0, 0, 0, 0, 1, 0, 1, 0],\n",
    "              [0, 0, 0, 0, 0, 1, 0, 1, 0, 0, 0, 0, 0, 1, 0, 1],\n",
    "              [1, 0, 0, 0, 1, 0, 0, 0, 1, 0, 0, 0, 1, 0, 0, 0],\n",
    "              [0, 0, 1, 0, 0, 0, 1, 0, 0, 0, 1, 0, 0, 0, 1, 0],\n",
    "              [0, 1, 0, 0, 0, 1, 0, 0, 0, 1, 0, 0, 0, 1, 0, 0],\n",
    "              [0, 0, 0, 1, 0, 0, 0, 1, 0, 0, 0, 1, 0, 0, 0, 1],\n",
    "              [1, 1, 0, 0, 1, 1, 0, 0, 0, 0, 0, 0, 0, 0, 0, 0],\n",
    "              [0, 0, 0, 0, 0, 0, 0, 0, 1, 1, 0, 0, 1, 1, 0, 0],\n",
    "              [0, 0, 1, 1, 0, 0, 1, 1, 0, 0, 0, 0, 0, 0, 0, 0],\n",
    "              [0, 0, 0, 0, 0, 0, 0, 0, 0, 0, 1, 1, 0, 0, 1, 1],\n",
    "              [1, 1, 1, 1, 0, 0, 0, 0, 0, 0, 0, 0, 0, 0, 0, 0],\n",
    "              [0, 0, 0, 0, 1, 1, 1, 1, 0, 0, 0, 0, 0, 0, 0, 0],\n",
    "              [0, 0, 0, 0, 0, 0, 0, 0, 1, 1, 1, 1, 0, 0, 0, 0],\n",
    "              [0, 0, 0, 0, 0, 0, 0, 0, 0, 0, 0, 0, 1, 1, 1, 1]])\n",
    "\n",
    "\n",
    "Lambda_mb = np.array([[0, 0, 0, 0, 0, 0, -1, 1, 0, 0, 0, 0, 0, 0, 1, -1],\n",
    "                     [0, 0, 0, 0, 0, 0, 0, 0, 0, -1, 0, 1, 0, 1, 0, -1],\n",
    "                     [0, 0, 0, 0, 0, 0, 0, 0, -1, 0, 1, 0, 1, 0, -1, 0],\n",
    "                     [0, 0, 0, 0, -1, 1, 0, 0, 0, 0, 0, 0, 1, -1, 0, 0],\n",
    "                     [0, 0, -1, 1, 0, 0, 0, 0, 0, 0, 1, -1, 0, 0, 0, 0],\n",
    "                     [-1, 1, 0, 0, 0, 0, 0, 0, 1, -1, 0, 0, 0, 0, 0, 0],\n",
    "                     [0, -1, 0, 1, 0, 1, 0, -1, 0, 0, 0, 0, 0, 0, 0, 0],\n",
    "                     [-1, 0, 1, 0, 1, 0, -1, 0, 0, 0, 0, 0, 0, 0, 0, 0],\n",
    "                     [1, -1, -1, 1, 0, 0, 0, 0, 0, 0, 0, 0, -1, 1, 1, -1],\n",
    "                     [1, -1, 0, 0, -1, 1, 0, 0, 0, 0, -1, 1, 0, 0, 1, -1],\n",
    "                     [1, 0, -1, 0, 0, -1, 0, 1, -1, 0, 1, 0, 0, 1, 0, -1],\n",
    "                     [0, 1, -1, 0, 0, -1, 1, 0, 0, -1, 1, 0, 0, 1, -1, 0],\n",
    "                     [1, 0, 0, -1, -1, 0, 0, 1, -1, 0, 0, 1, 1, 0, 0, -1],\n",
    "                     [0, 1, 0, -1, -1, 0, 1, 0, 0, -1, 0, 1, 1, 0, -1, 0],\n",
    "                     [0, 0, 1, -1, 0, 0, -1, 1, -1, 1, 0, 0, 1, -1, 0, 0],\n",
    "                     [0, 0, 0, 0, 1, -1, -1, 1, -1, 1, 1, -1, 0, 0, 0,\n",
    "                      0]]).transpose()\n",
    "\n",
    "Q, R, pivot_columns = scipy.linalg.qr(Lambda_mb, mode='economic', pivoting=True)\n",
    "Lambda_mb = Lambda_mb[:, pivot_columns]\n",
    "\n",
    "u = np.random.randint(10, 50, size=(1, Lambda_mb.shape[0]))"
   ]
  },
  {
   "cell_type": "code",
   "execution_count": 0,
   "id": "1239eb",
   "metadata": {
    "collapsed": false
   },
   "outputs": [
   ],
   "source": [
    "model_str = f'4_cycle'\n",
    "\n",
    "os.chdir('/home/user/' + timestamp_str)\n",
    "os.makedirs(model_str, exist_ok=True)\n",
    "os.chdir(model_str)\n",
    "\n",
    "np.savetxt('A.txt', A, delimiter=',', fmt='%d')\n",
    "np.savetxt('u.txt', u, delimiter=',', fmt='%.5f')"
   ]
  },
  {
   "cell_type": "code",
   "execution_count": 0,
   "id": "1eaeb0",
   "metadata": {
    "collapsed": false
   },
   "outputs": [
   ],
   "source": [
    "number_of_m_values = 10\n",
    "m_values = np.rint(\n",
    "    np.linspace(te.rank(Lambda_mb), Lambda_mb.shape[1],\n",
    "                number_of_m_values)).astype(int)\n",
    "colors = cm.coolwarm(np.linspace(0, 1, len(m_values)))"
   ]
  },
  {
   "cell_type": "code",
   "execution_count": 0,
   "id": "901d86",
   "metadata": {
    "collapsed": false
   },
   "outputs": [
   ],
   "source": [
    "dir_name = f'towards_markov_basis'\n",
    "os.makedirs(dir_name, exist_ok=True)\n",
    "\n",
    "new_plot()\n",
    "\n",
    "for i, m in enumerate(m_values):\n",
    "    print(i)\n",
    "    np.savetxt(dir_name + f'/Lambda{i+1}.txt',\n",
    "               Lambda_mb[:, 0:m],\n",
    "               delimiter=',',\n",
    "               fmt='%d')\n",
    "    T = timescales(Lambda_mb[:, 0:m], u)\n",
    "    np.savetxt(dir_name + f'/timescales_for_Lambda{i+1}.txt',\n",
    "               T,\n",
    "               delimiter=',',\n",
    "               fmt='%.5f')\n",
    "    timescale_plot(T, label=f'|Λ$_{{{i+1}}}$|={m}', color=colors[i])\n",
    "\n",
    "plt.legend()\n",
    "plt.savefig(dir_name + \"/4-cycle_model_increasing_lambda.eps\", format='eps')\n",
    "plt.savefig(dir_name + \"/4-cycle_model_increasing_lambda.pdf\", format='pdf')\n",
    "plt.show()"
   ]
  },
  {
   "cell_type": "code",
   "execution_count": 0,
   "id": "7a5fb8",
   "metadata": {
    "collapsed": false
   },
   "outputs": [
   ],
   "source": [
    "dir_name = f'towards_random_spanning_set'\n",
    "os.makedirs(dir_name, exist_ok=True)\n",
    "\n",
    "extension_matrix = np.hstack(\n",
    "    (np.eye(te.rank(Lambda_mb), dtype=int),\n",
    "     np.random.choice([-1, 0, 1],\n",
    "                      size=(te.rank(Lambda_mb),\n",
    "                            Lambda_mb.shape[1] - te.rank(Lambda_mb)))))\n",
    "Lambda_spanning_set = np.dot(Lambda_mb[:, 0:te.rank(Lambda_mb)], extension_matrix)\n",
    "\n",
    "new_plot()\n",
    "\n",
    "for i, m in enumerate(m_values):\n",
    "    print(i)\n",
    "    np.savetxt(dir_name + f'/Lambda{i+1}.txt',\n",
    "               Lambda_spanning_set[:, 0:m],\n",
    "               delimiter=',',\n",
    "               fmt='%d')\n",
    "    T = timescales(Lambda_spanning_set[:, 0:m], u)\n",
    "    np.savetxt(dir_name + f'/timescales_for_Lambda{i+1}.txt',\n",
    "               T,\n",
    "               delimiter=',',\n",
    "               fmt='%.5f')\n",
    "    timescale_plot(T, label=f'|Λ$_{{{i+1}}}$|={m}', color=colors[i])\n",
    "\n",
    "plt.legend()\n",
    "\n",
    "plt.savefig(dir_name + \"/4-cycle_increaasing_lambda_to_random_spanning.eps\",\n",
    "            format='eps')\n",
    "plt.savefig(dir_name + \"/4-cycle_increasing_lambda_to_random_spanning.pdf\",\n",
    "            format='pdf')"
   ]
  },
  {
   "cell_type": "code",
   "execution_count": 0,
   "id": "f2de00",
   "metadata": {
    "collapsed": false
   },
   "outputs": [
   ],
   "source": [
    "Lambda_mb.shape[1]"
   ]
  },
  {
   "cell_type": "code",
   "execution_count": 0,
   "id": "a1a547",
   "metadata": {
    "collapsed": false
   },
   "outputs": [
   ],
   "source": [
    "np.sum(abs(Lambda_mb), axis=0)"
   ]
  },
  {
   "cell_type": "code",
   "execution_count": 0,
   "id": "898887",
   "metadata": {
    "collapsed": false
   },
   "outputs": [
   ],
   "source": [
    "np.sum(abs(Lambda_spanning_set), axis=0)"
   ]
  },
  {
   "cell_type": "markdown",
   "id": "d4f290",
   "metadata": {
    "collapsed": false
   },
   "source": [
    "## Random design matrix\n",
    "\n"
   ]
  },
  {
   "cell_type": "code",
   "execution_count": 0,
   "id": "e987c1",
   "metadata": {
    "collapsed": false
   },
   "outputs": [
   ],
   "source": [
    "A = np.array([[0, 1, 1, 2, 1, 2, 2, 1, 1, 1], [0, 0, 2, 2, 2, 2, 2, 1, 2, 0], [1, 2, 1, 0, 1, 0, 2, 0, 1, 0]])\n",
    "\n",
    "Lambda_mb = np.array([[0, 0, 0, 0, 1, 0, 1, 1, 2, 0, 0], [0, 0, 0, 0, -1, 1, 0, 0, -1, 0, 1], [0, 0, 1, 0, 0, 0, 0, 0, 0, 0, 0], [0, 1, 0, 0, 0, 0, 0, 0, 0, 0, 0], [1, 0, 0, 0, 0, 0, 0, 0, 0, 0, 0], [0, -1, 0, -1, 0, 1, 1, 0, 0, -1, 0], [0, 0, 0, 0, 1, -1, 0, -1, 0, -1, -2], [0, 0, 0, 2, 0, 0, 0, 0, 0, 0, 0], [-1, 0, -1, 0, -1, 0, -1, 1, 0, 2, 2], [0, 0, 0, 0, 0, -1, -1, 1, 1, 2, 1]])\n",
    "\n",
    "Q, R, pivot_columns = scipy.linalg.qr(Lambda_mb, mode='economic', pivoting=True)\n",
    "Lambda_mb = Lambda_mb[:, pivot_columns]\n",
    "\n",
    "u = np.random.randint(10, 50, size=(1, Lambda_mb.shape[0]))"
   ]
  },
  {
   "cell_type": "code",
   "execution_count": 0,
   "id": "b7fdc2",
   "metadata": {
    "collapsed": false
   },
   "outputs": [
   ],
   "source": [
    "model_str = f'random'\n",
    "\n",
    "os.chdir('/home/user/' + timestamp_str)\n",
    "os.makedirs(model_str, exist_ok=True)\n",
    "os.chdir(model_str)\n",
    "\n",
    "np.savetxt('A.txt', A, delimiter=',', fmt='%d')\n",
    "np.savetxt('u.txt', u, delimiter=',', fmt='%.5f')"
   ]
  },
  {
   "cell_type": "code",
   "execution_count": 0,
   "id": "67bc71",
   "metadata": {
    "collapsed": false
   },
   "outputs": [
   ],
   "source": [
    "number_of_m_values = 10\n",
    "m_values = np.rint(\n",
    "    np.linspace(te.rank(Lambda_mb), Lambda_mb.shape[1],\n",
    "                number_of_m_values)).astype(int)\n",
    "colors = cm.coolwarm(np.linspace(0, 1, len(m_values)))"
   ]
  },
  {
   "cell_type": "code",
   "execution_count": 0,
   "id": "8f83e2",
   "metadata": {
    "collapsed": false,
    "scrolled": true
   },
   "outputs": [
   ],
   "source": [
    "dir_name = f'towards_markov_basis'\n",
    "os.makedirs(dir_name, exist_ok=True)\n",
    "\n",
    "new_plot()\n",
    "\n",
    "for i, m in enumerate(m_values):\n",
    "    print(i)\n",
    "    np.savetxt(dir_name + f'/Lambda{i+1}.txt',\n",
    "               Lambda_mb[:, 0:m],\n",
    "               delimiter=',',\n",
    "               fmt='%d')\n",
    "    T = timescales(Lambda_mb[:, 0:m], u)\n",
    "    np.savetxt(dir_name + f'/timescales_for_Lambda{i+1}.txt',\n",
    "               T,\n",
    "               delimiter=',',\n",
    "               fmt='%.5f')\n",
    "    timescale_plot(T, label=f'|Λ$_{{{i+1}}}$|={m}', color=colors[i])\n",
    "\n",
    "plt.legend()\n",
    "plt.savefig(dir_name + \"/4-cycle_model_increasing_lambda.eps\", format='eps')\n",
    "plt.savefig(dir_name + \"/4-cycle_model_increasing_lambda.pdf\", format='pdf')\n",
    "plt.show()"
   ]
  },
  {
   "cell_type": "code",
   "execution_count": 0,
   "id": "5c81f9",
   "metadata": {
    "collapsed": false
   },
   "outputs": [
   ],
   "source": [
    "dir_name = f'towards_random_spanning_set'\n",
    "os.makedirs(dir_name, exist_ok=True)\n",
    "\n",
    "extension_matrix = np.hstack(\n",
    "    (np.eye(te.rank(Lambda_mb), dtype=int),\n",
    "     np.random.choice([-1, 0, 1],\n",
    "                      size=(te.rank(Lambda_mb),\n",
    "                            Lambda_mb.shape[1] - te.rank(Lambda_mb)))))\n",
    "Lambda_spanning_set = np.dot(Lambda_mb[:, 0:te.rank(Lambda_mb)], extension_matrix)\n",
    "\n",
    "new_plot()\n",
    "\n",
    "for i, m in enumerate(m_values):\n",
    "    print(i)\n",
    "    np.savetxt(dir_name + f'/Lambda{i+1}.txt',\n",
    "               Lambda_spanning_set[:, 0:m],\n",
    "               delimiter=',',\n",
    "               fmt='%d')\n",
    "    T = timescales(Lambda_spanning_set[:, 0:m], u)\n",
    "    np.savetxt(dir_name + f'/timescales_for_Lambda{i+1}.txt',\n",
    "               T,\n",
    "               delimiter=',',\n",
    "               fmt='%.5f')\n",
    "    timescale_plot(T, label=f'|Λ$_{{{i+1}}}$|={m}', color=colors[i])\n",
    "\n",
    "plt.legend()\n",
    "\n",
    "plt.savefig(dir_name + \"/4-cycle_increaasing_lambda_to_random_spanning.eps\",\n",
    "            format='eps')\n",
    "plt.savefig(dir_name + \"/4-cycle_increasing_lambda_to_random_spanning.pdf\",\n",
    "            format='pdf')"
   ]
  },
  {
   "cell_type": "markdown",
   "id": "7e5f43",
   "metadata": {
    "collapsed": false
   },
   "source": [
    "## Random design matrix 2\n",
    "\n"
   ]
  },
  {
   "cell_type": "code",
   "execution_count": 0,
   "id": "530e78",
   "metadata": {
    "collapsed": false
   },
   "outputs": [
   ],
   "source": [
    "A = np.array([[2, 3, 2, 0, 0, 1, 1, 3], [2, 3, 1, 1, 2, 1, 0, 3], [0, 3, 3, 0, 3, 1, 2, 3]])\n",
    "\n",
    "Lambda_mb = np.array([[0, 0, 0, 0, 0, 0, 2, 2, -1, -1, 1, 1, 1, -3, 0], [1, 0, 0, 0, 0, 0, 0, 0, 0, 0, 0, 0, 0, 0, 0], [0, -1, 0, 1, 2, -3, 0, 1, 1, 0, 0, 1, 2, 0, 0], [0, 0, 0, 0, 0, 0, -1, -1, 3, 3, 2, 2, 2, 4, 5], [0, 0, 0, 0, 0, 0, 1, 1, -1, -1, 0, 0, 0, -2, -1], [0, 1, 3, 2, 1, 0, -2, 0, 0, -2, -1, -2, 0, 0, 0], [0, 1, 0, -1, -2, 3, 1, 0, 0, 1, 2, 1, 0, 0, 3], [-1, 0, -1, -1, -1, 1, -1, -2, 0, 1, -1, -1, -2, 2, -1]])\n",
    "\n",
    "Q, R, pivot_columns = scipy.linalg.qr(Lambda_mb, mode='economic', pivoting=True)\n",
    "Lambda_mb = Lambda_mb[:, pivot_columns]\n",
    "\n",
    "u = np.random.randint(10, 50, size=(1, Lambda_mb.shape[0]))"
   ]
  },
  {
   "cell_type": "code",
   "execution_count": 0,
   "id": "faac92",
   "metadata": {
    "collapsed": false
   },
   "outputs": [
   ],
   "source": [
    "model_str = f'random'\n",
    "\n",
    "os.chdir('/home/user/' + timestamp_str)\n",
    "os.makedirs(model_str, exist_ok=True)\n",
    "os.chdir(model_str)\n",
    "\n",
    "np.savetxt('A.txt', A, delimiter=',', fmt='%d')\n",
    "np.savetxt('u.txt', u, delimiter=',', fmt='%.5f')"
   ]
  },
  {
   "cell_type": "code",
   "execution_count": 0,
   "id": "e443d8",
   "metadata": {
    "collapsed": false
   },
   "outputs": [
   ],
   "source": [
    "number_of_m_values = 10\n",
    "m_values = np.rint(\n",
    "    np.linspace(te.rank(Lambda_mb), Lambda_mb.shape[1],\n",
    "                number_of_m_values)).astype(int)\n",
    "colors = cm.coolwarm(np.linspace(0, 1, len(m_values)))"
   ]
  },
  {
   "cell_type": "code",
   "execution_count": 0,
   "id": "b450a1",
   "metadata": {
    "collapsed": false
   },
   "outputs": [
   ],
   "source": [
    "dir_name = f'towards_markov_basis'\n",
    "os.makedirs(dir_name, exist_ok=True)\n",
    "\n",
    "new_plot()\n",
    "\n",
    "for i, m in enumerate(m_values):\n",
    "    print(i)\n",
    "    np.savetxt(dir_name + f'/Lambda{i+1}.txt',\n",
    "               Lambda_mb[:, 0:m],\n",
    "               delimiter=',',\n",
    "               fmt='%d')\n",
    "    T = timescales(Lambda_mb[:, 0:m], u)\n",
    "    np.savetxt(dir_name + f'/timescales_for_Lambda{i+1}.txt',\n",
    "               T,\n",
    "               delimiter=',',\n",
    "               fmt='%.5f')\n",
    "    timescale_plot(T, label=f'|Λ$_{{{i+1}}}$|={m}', color=colors[i])\n",
    "\n",
    "plt.legend()\n",
    "plt.savefig(dir_name + \"/random2_model_increasing_lambda.eps\", format='eps')\n",
    "plt.savefig(dir_name + \"/random2_model_increasing_lambda.pdf\", format='pdf')\n",
    "plt.show()"
   ]
  },
  {
   "cell_type": "code",
   "execution_count": 0,
   "id": "8204be",
   "metadata": {
    "collapsed": false
   },
   "outputs": [
   ],
   "source": [
    "dir_name = f'towards_random_spanning_set'\n",
    "os.makedirs(dir_name, exist_ok=True)\n",
    "\n",
    "extension_matrix = np.hstack(\n",
    "    (np.eye(te.rank(Lambda_mb), dtype=int),\n",
    "     np.random.choice([-1, 0, 1],\n",
    "                      size=(te.rank(Lambda_mb),\n",
    "                            Lambda_mb.shape[1] - te.rank(Lambda_mb)))))\n",
    "Lambda_spanning_set = np.dot(Lambda_mb[:, 0:te.rank(Lambda_mb)], extension_matrix)\n"
   ]
  },
  {
   "cell_type": "code",
   "execution_count": 0,
   "id": "12edd1",
   "metadata": {
    "collapsed": false,
    "scrolled": true
   },
   "outputs": [
   ],
   "source": [
    "new_plot()\n",
    "\n",
    "for i, m in enumerate(m_values):\n",
    "    print(i)\n",
    "    np.savetxt(dir_name + f'/Lambda{i+1}.txt',\n",
    "               Lambda_spanning_set[:, 0:m],\n",
    "               delimiter=',',\n",
    "               fmt='%d')\n",
    "    T = timescales(Lambda_spanning_set[:, 0:m], u)\n",
    "    np.savetxt(dir_name + f'/timescales_for_Lambda{i+1}.txt',\n",
    "               T,\n",
    "               delimiter=',',\n",
    "               fmt='%.5f')\n",
    "    timescale_plot(T, label=f'|Λ$_{{{i+1}}}$|={m}', color=colors[i])\n",
    "\n",
    "plt.legend()\n",
    "\n",
    "plt.savefig(dir_name + \"/random2_increaasing_lambda_to_random_spanning.eps\",\n",
    "            format='eps')\n",
    "plt.savefig(dir_name + \"/random2_increasing_lambda_to_random_spanning.pdf\",\n",
    "            format='pdf')"
   ]
  }
 ],
 "metadata": {
  "kernelspec": {
   "argv": [
    "/usr/bin/python3",
    "-m",
    "ipykernel",
    "--HistoryManager.enabled=False",
    "--matplotlib=inline",
    "-c",
    "%config InlineBackend.figure_formats = set(['retina'])\nimport matplotlib; matplotlib.rcParams['figure.figsize'] = (12, 7)",
    "-f",
    "{connection_file}"
   ],
   "display_name": "Python 3 (system-wide)",
   "env": {
   },
   "language": "python",
   "metadata": {
    "cocalc": {
     "description": "Python 3 programming language",
     "priority": 100,
     "url": "https://www.python.org/"
    }
   },
   "name": "python3",
   "resource_dir": "/ext/jupyter/kernels/python3"
  },
  "language_info": {
   "codemirror_mode": {
    "name": "ipython",
    "version": 3
   },
   "file_extension": ".py",
   "mimetype": "text/x-python",
   "name": "python",
   "nbconvert_exporter": "python",
   "pygments_lexer": "ipython3",
   "version": "3.10.12"
  }
 },
 "nbformat": 4,
 "nbformat_minor": 4
}